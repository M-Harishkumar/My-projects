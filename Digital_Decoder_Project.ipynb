{
  "nbformat": 4,
  "nbformat_minor": 0,
  "metadata": {
    "colab": {
      "provenance": [],
      "authorship_tag": "ABX9TyPdcGhey5LDz7kG3hmvIuau",
      "include_colab_link": true
    },
    "kernelspec": {
      "name": "python3",
      "display_name": "Python 3"
    },
    "language_info": {
      "name": "python"
    }
  },
  "cells": [
    {
      "cell_type": "markdown",
      "metadata": {
        "id": "view-in-github",
        "colab_type": "text"
      },
      "source": [
        "<a href=\"https://colab.research.google.com/github/M-Harishkumar/My-projects/blob/main/Digital_Decoder_Project_Harishkumar.ipynb\" target=\"_parent\"><img src=\"https://colab.research.google.com/assets/colab-badge.svg\" alt=\"Open In Colab\"/></a>"
      ]
    },
    {
      "cell_type": "markdown",
      "source": [
        "# Digital Decoder for Secure Data Transmission\n",
        "\n",
        "**Submitted by:** HARISHKUMAR.M  \n",
        "**Institution:** BANNARI AMMAN INSTITUTE OF TECHNOLOGY  \n",
        "\n",
        "---\n",
        "\n",
        "## ABSTRACT\n",
        "In an era where digital communication is the backbone of every interaction, ensuring the safe transmission of information has become increasingly important...\n",
        "\n",
        "## OBJECTIVES\n",
        "- To understand the concept of encoding and decoding in digital communication.\n",
        "- To implement a simple Python-based message converter.\n",
        "- To provide a basic level of text obfuscation using character shifting.\n",
        "- To demonstrate how digital transformation of characters can help in secure transmission.\n",
        "\n",
        "## TOOLS USED\n",
        "- Python 3.10+\n",
        "- Google Colab\n",
        "- Text Editor (like VS Code or Notepad++)\n",
        "\n",
        "## PROJECT DESCRIPTION\n",
        "This project encodes a string by shifting each character's ASCII value by a fixed amount (in this case, 3). Decoding reverses the process...\n",
        "\n",
        "## SAMPLE OUTPUT  \n",
        "Input: hello world  \n",
        "Encoded: 107 104 111 111 114 35 122 114 117 111 103  \n",
        "Decoded: hello world\n",
        "\n",
        "## CONCLUSION\n",
        "This project successfully demonstrates the fundamentals...\n",
        "\n",
        "## FUTURE ENHANCEMENTS\n",
        "- Add file encryption\n",
        "- Add GUI\n",
        "- Add command-line interface\n",
        "\n",
        "## REFERENCES\n",
        "- https://docs.python.org/3/\n",
        "- https://www.asciitable.com/\n",
        "- https://colab.research.google.com/\n"
      ],
      "metadata": {
        "id": "7I3bIUDKWqS9"
      }
    },
    {
      "cell_type": "code",
      "source": [
        "# Function to convert normal text into binary format (8 bits for each character)\n",
        "def convert_text_to_binary(text):\n",
        "    return ' '.join(format(ord(char), '08b') for char in text)\n",
        "\n",
        "#Function to convert binary data back into normal text\n",
        "def convert_binary_to_text(binary_data):\n",
        "    binary_values = binary_data.split()\n",
        "    return ''.join(chr(int(binary, 2)) for binary in binary_values)\n",
        "\n",
        "#XOR function\n",
        "def xor_encrypt_or_decrypt(binary_data, key):\n",
        "    key_binary = format(key, '08b')  # Convert key to 8-bit binary\n",
        "    result = []\n",
        "    for binary_char in binary_data.split():\n",
        "        # Repeat key bits to match the length of binary_char\n",
        "        repeated_key = (key_binary * (len(binary_char) // len(key_binary))) + key_binary[:len(binary_char) % len(key_binary)]\n",
        "        xor_result = ''.join('1' if b != k else '0' for b, k in zip(binary_char, repeated_key))\n",
        "        result.append(xor_result)\n",
        "    return ' '.join(result)\n",
        "\n",
        "#MAIN PROGRAME\n",
        "print(\"Digital Decoder for Secure Data Transmission\")\n",
        "\n",
        "#User enters the original message\n",
        "message = input(\"Enter your message to send securely: \")\n",
        "\n",
        "#Set valid encryption key between 0 and 255\n",
        "while True:\n",
        "    try:\n",
        "        original_key = int(input(\"Set a security key (0 to 255): \"))\n",
        "        if 0 <= original_key <= 255:\n",
        "            break\n",
        "        else:\n",
        "            print(\"Key must be between 0 and 255. Please try again.\")\n",
        "    except ValueError:\n",
        "        print(\"Invalid input. Please enter a number.\")\n",
        "\n",
        "#Convert the message to binary\n",
        "binary_message = convert_text_to_binary(message)\n",
        "\n",
        "#Encrypt the binary message using XOR\n",
        "encrypted_message = xor_encrypt_or_decrypt(binary_message, original_key)\n",
        "\n",
        "#Simulate sending the encrypted message\n",
        "print(\"\\nEncrypted Binary Message:\")\n",
        "print(encrypted_message)\n",
        "\n",
        "while True:\n",
        "    try:\n",
        "        entered_key = int(input(\"Enter the security key (0 to 255): \"))\n",
        "        if 0 <= entered_key <= 255:\n",
        "            break\n",
        "        else:\n",
        "            print(\"Key must be between 0 and 255. Please try again.\")\n",
        "    except ValueError:\n",
        "        print(\"Invalid input. Please enter a number.\")\n",
        "\n",
        "#Check entered key is correct\n",
        "if entered_key == original_key:\n",
        "    print(\"Access Granted. Decrypting the message...\")\n",
        "    decrypted_binary = xor_encrypt_or_decrypt(encrypted_message, entered_key)\n",
        "    final_message = convert_binary_to_text(decrypted_binary)\n",
        "\n",
        "    print(\"\\nDecrypted Binary Message:\")\n",
        "    print(decrypted_binary)\n",
        "    print(\"Final Decoded Message:\")\n",
        "    print(final_message)\n",
        "else:\n",
        "    print(\"Access Denied.Incorrect Security Key.\")"
      ],
      "metadata": {
        "id": "vsFtyiDjWpRn",
        "outputId": "1e9215e4-e421-4864-e5f3-28df64a19c0d",
        "colab": {
          "base_uri": "https://localhost:8080/"
        }
      },
      "execution_count": null,
      "outputs": [
        {
          "output_type": "stream",
          "name": "stdout",
          "text": [
            "Digital Decoder for Secure Data Transmission\n",
            "Enter your message to send securely: Hello\n",
            "Set a security key (0 to 255): 33\n",
            "\n",
            "Encrypted Binary Message:\n",
            "01101001 01000100 01001101 01001101 01001110\n",
            "Enter the security key (0 to 255): 22\n",
            "Access Denied.Incorrect Security Key.\n"
          ]
        }
      ]
    }
  ]
}